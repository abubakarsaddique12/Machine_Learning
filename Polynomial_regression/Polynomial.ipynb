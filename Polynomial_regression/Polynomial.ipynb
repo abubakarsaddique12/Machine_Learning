{
 "cells": [
  {
   "cell_type": "code",
   "execution_count": 68,
   "metadata": {},
   "outputs": [],
   "source": [
    "import numpy as np \n",
    "import pandas as pd \n",
    "import matplotlib.pyplot as plt \n",
    "import seaborn as sns \n",
    "from sklearn.preprocessing import PolynomialFeatures\n",
    "from sklearn.linear_model import LinearRegression\n",
    "from sklearn.model_selection import train_test_split\n",
    "from sklearn.metrics import mean_absolute_error,mean_squared_error,r2_score"
   ]
  },
  {
   "cell_type": "code",
   "execution_count": 69,
   "metadata": {},
   "outputs": [
    {
     "data": {
      "text/html": [
       "<div>\n",
       "<style scoped>\n",
       "    .dataframe tbody tr th:only-of-type {\n",
       "        vertical-align: middle;\n",
       "    }\n",
       "\n",
       "    .dataframe tbody tr th {\n",
       "        vertical-align: top;\n",
       "    }\n",
       "\n",
       "    .dataframe thead th {\n",
       "        text-align: right;\n",
       "    }\n",
       "</style>\n",
       "<table border=\"1\" class=\"dataframe\">\n",
       "  <thead>\n",
       "    <tr style=\"text-align: right;\">\n",
       "      <th></th>\n",
       "      <th>Temperature (°C)</th>\n",
       "      <th>Pressure (kPa)</th>\n",
       "      <th>Temperature x Pressure</th>\n",
       "      <th>Material Fusion Metric</th>\n",
       "      <th>Material Transformation Metric</th>\n",
       "      <th>Quality Rating</th>\n",
       "    </tr>\n",
       "  </thead>\n",
       "  <tbody>\n",
       "    <tr>\n",
       "      <th>0</th>\n",
       "      <td>209.762701</td>\n",
       "      <td>8.050855</td>\n",
       "      <td>1688.769167</td>\n",
       "      <td>44522.217074</td>\n",
       "      <td>9.229576e+06</td>\n",
       "      <td>99.999971</td>\n",
       "    </tr>\n",
       "    <tr>\n",
       "      <th>1</th>\n",
       "      <td>243.037873</td>\n",
       "      <td>15.812068</td>\n",
       "      <td>3842.931469</td>\n",
       "      <td>63020.764997</td>\n",
       "      <td>1.435537e+07</td>\n",
       "      <td>99.985703</td>\n",
       "    </tr>\n",
       "    <tr>\n",
       "      <th>2</th>\n",
       "      <td>220.552675</td>\n",
       "      <td>7.843130</td>\n",
       "      <td>1729.823314</td>\n",
       "      <td>49125.950249</td>\n",
       "      <td>1.072839e+07</td>\n",
       "      <td>99.999758</td>\n",
       "    </tr>\n",
       "    <tr>\n",
       "      <th>3</th>\n",
       "      <td>208.976637</td>\n",
       "      <td>23.786089</td>\n",
       "      <td>4970.736918</td>\n",
       "      <td>57128.881547</td>\n",
       "      <td>9.125702e+06</td>\n",
       "      <td>99.999975</td>\n",
       "    </tr>\n",
       "    <tr>\n",
       "      <th>4</th>\n",
       "      <td>184.730960</td>\n",
       "      <td>15.797812</td>\n",
       "      <td>2918.345014</td>\n",
       "      <td>38068.201283</td>\n",
       "      <td>6.303792e+06</td>\n",
       "      <td>100.000000</td>\n",
       "    </tr>\n",
       "  </tbody>\n",
       "</table>\n",
       "</div>"
      ],
      "text/plain": [
       "   Temperature (°C)  Pressure (kPa)  Temperature x Pressure  \\\n",
       "0        209.762701        8.050855             1688.769167   \n",
       "1        243.037873       15.812068             3842.931469   \n",
       "2        220.552675        7.843130             1729.823314   \n",
       "3        208.976637       23.786089             4970.736918   \n",
       "4        184.730960       15.797812             2918.345014   \n",
       "\n",
       "   Material Fusion Metric  Material Transformation Metric  Quality Rating  \n",
       "0            44522.217074                    9.229576e+06       99.999971  \n",
       "1            63020.764997                    1.435537e+07       99.985703  \n",
       "2            49125.950249                    1.072839e+07       99.999758  \n",
       "3            57128.881547                    9.125702e+06       99.999975  \n",
       "4            38068.201283                    6.303792e+06      100.000000  "
      ]
     },
     "execution_count": 69,
     "metadata": {},
     "output_type": "execute_result"
    }
   ],
   "source": [
    "df=pd.read_csv(\"manufacturing.csv\")\n",
    "df.head()"
   ]
  },
  {
   "cell_type": "code",
   "execution_count": 70,
   "metadata": {},
   "outputs": [
    {
     "data": {
      "text/plain": [
       "(3957, 6)"
      ]
     },
     "execution_count": 70,
     "metadata": {},
     "output_type": "execute_result"
    }
   ],
   "source": [
    "df.shape"
   ]
  },
  {
   "cell_type": "code",
   "execution_count": 71,
   "metadata": {},
   "outputs": [
    {
     "name": "stdout",
     "output_type": "stream",
     "text": [
      "<class 'pandas.core.frame.DataFrame'>\n",
      "RangeIndex: 3957 entries, 0 to 3956\n",
      "Data columns (total 6 columns):\n",
      " #   Column                          Non-Null Count  Dtype  \n",
      "---  ------                          --------------  -----  \n",
      " 0   Temperature (°C)                3957 non-null   float64\n",
      " 1   Pressure (kPa)                  3957 non-null   float64\n",
      " 2   Temperature x Pressure          3957 non-null   float64\n",
      " 3   Material Fusion Metric          3957 non-null   float64\n",
      " 4   Material Transformation Metric  3957 non-null   float64\n",
      " 5   Quality Rating                  3957 non-null   float64\n",
      "dtypes: float64(6)\n",
      "memory usage: 185.6 KB\n"
     ]
    }
   ],
   "source": [
    "df.info()"
   ]
  },
  {
   "cell_type": "code",
   "execution_count": 72,
   "metadata": {},
   "outputs": [
    {
     "data": {
      "text/plain": [
       "Temperature (°C)                  0\n",
       "Pressure (kPa)                    0\n",
       "Temperature x Pressure            0\n",
       "Material Fusion Metric            0\n",
       "Material Transformation Metric    0\n",
       "Quality Rating                    0\n",
       "dtype: int64"
      ]
     },
     "execution_count": 72,
     "metadata": {},
     "output_type": "execute_result"
    }
   ],
   "source": [
    "df.isnull().sum()"
   ]
  },
  {
   "cell_type": "code",
   "execution_count": 73,
   "metadata": {},
   "outputs": [
    {
     "data": {
      "text/html": [
       "<div>\n",
       "<style scoped>\n",
       "    .dataframe tbody tr th:only-of-type {\n",
       "        vertical-align: middle;\n",
       "    }\n",
       "\n",
       "    .dataframe tbody tr th {\n",
       "        vertical-align: top;\n",
       "    }\n",
       "\n",
       "    .dataframe thead th {\n",
       "        text-align: right;\n",
       "    }\n",
       "</style>\n",
       "<table border=\"1\" class=\"dataframe\">\n",
       "  <thead>\n",
       "    <tr style=\"text-align: right;\">\n",
       "      <th></th>\n",
       "      <th>Temperature (°C)</th>\n",
       "      <th>Pressure (kPa)</th>\n",
       "      <th>Temperature x Pressure</th>\n",
       "      <th>Material Fusion Metric</th>\n",
       "      <th>Material Transformation Metric</th>\n",
       "      <th>Quality Rating</th>\n",
       "    </tr>\n",
       "  </thead>\n",
       "  <tbody>\n",
       "    <tr>\n",
       "      <th>count</th>\n",
       "      <td>3957.000000</td>\n",
       "      <td>3957.000000</td>\n",
       "      <td>3957.000000</td>\n",
       "      <td>3957.000000</td>\n",
       "      <td>3.957000e+03</td>\n",
       "      <td>3957.000000</td>\n",
       "    </tr>\n",
       "    <tr>\n",
       "      <th>mean</th>\n",
       "      <td>200.034704</td>\n",
       "      <td>14.815558</td>\n",
       "      <td>2955.321308</td>\n",
       "      <td>48127.183128</td>\n",
       "      <td>1.003645e+07</td>\n",
       "      <td>96.260179</td>\n",
       "    </tr>\n",
       "    <tr>\n",
       "      <th>std</th>\n",
       "      <td>58.135717</td>\n",
       "      <td>5.772040</td>\n",
       "      <td>1458.224940</td>\n",
       "      <td>23812.213513</td>\n",
       "      <td>7.599356e+06</td>\n",
       "      <td>12.992262</td>\n",
       "    </tr>\n",
       "    <tr>\n",
       "      <th>min</th>\n",
       "      <td>100.014490</td>\n",
       "      <td>5.003008</td>\n",
       "      <td>513.706875</td>\n",
       "      <td>10156.971955</td>\n",
       "      <td>9.999462e+05</td>\n",
       "      <td>1.000000</td>\n",
       "    </tr>\n",
       "    <tr>\n",
       "      <th>25%</th>\n",
       "      <td>150.871296</td>\n",
       "      <td>9.692984</td>\n",
       "      <td>1798.247303</td>\n",
       "      <td>27626.929091</td>\n",
       "      <td>3.433810e+06</td>\n",
       "      <td>99.941129</td>\n",
       "    </tr>\n",
       "    <tr>\n",
       "      <th>50%</th>\n",
       "      <td>198.603371</td>\n",
       "      <td>14.832557</td>\n",
       "      <td>2678.277782</td>\n",
       "      <td>44611.452164</td>\n",
       "      <td>7.833390e+06</td>\n",
       "      <td>99.999997</td>\n",
       "    </tr>\n",
       "    <tr>\n",
       "      <th>75%</th>\n",
       "      <td>251.366552</td>\n",
       "      <td>19.749680</td>\n",
       "      <td>3929.058261</td>\n",
       "      <td>67805.443846</td>\n",
       "      <td>1.588251e+07</td>\n",
       "      <td>100.000000</td>\n",
       "    </tr>\n",
       "    <tr>\n",
       "      <th>max</th>\n",
       "      <td>299.992804</td>\n",
       "      <td>24.999132</td>\n",
       "      <td>7365.018714</td>\n",
       "      <td>103756.181544</td>\n",
       "      <td>2.699783e+07</td>\n",
       "      <td>100.000000</td>\n",
       "    </tr>\n",
       "  </tbody>\n",
       "</table>\n",
       "</div>"
      ],
      "text/plain": [
       "       Temperature (°C)  Pressure (kPa)  Temperature x Pressure  \\\n",
       "count       3957.000000     3957.000000             3957.000000   \n",
       "mean         200.034704       14.815558             2955.321308   \n",
       "std           58.135717        5.772040             1458.224940   \n",
       "min          100.014490        5.003008              513.706875   \n",
       "25%          150.871296        9.692984             1798.247303   \n",
       "50%          198.603371       14.832557             2678.277782   \n",
       "75%          251.366552       19.749680             3929.058261   \n",
       "max          299.992804       24.999132             7365.018714   \n",
       "\n",
       "       Material Fusion Metric  Material Transformation Metric  Quality Rating  \n",
       "count             3957.000000                    3.957000e+03     3957.000000  \n",
       "mean             48127.183128                    1.003645e+07       96.260179  \n",
       "std              23812.213513                    7.599356e+06       12.992262  \n",
       "min              10156.971955                    9.999462e+05        1.000000  \n",
       "25%              27626.929091                    3.433810e+06       99.941129  \n",
       "50%              44611.452164                    7.833390e+06       99.999997  \n",
       "75%              67805.443846                    1.588251e+07      100.000000  \n",
       "max             103756.181544                    2.699783e+07      100.000000  "
      ]
     },
     "execution_count": 73,
     "metadata": {},
     "output_type": "execute_result"
    }
   ],
   "source": [
    "# statistic summary\n",
    "df.describe()"
   ]
  },
  {
   "cell_type": "code",
   "execution_count": 74,
   "metadata": {},
   "outputs": [
    {
     "data": {
      "text/html": [
       "<div>\n",
       "<style scoped>\n",
       "    .dataframe tbody tr th:only-of-type {\n",
       "        vertical-align: middle;\n",
       "    }\n",
       "\n",
       "    .dataframe tbody tr th {\n",
       "        vertical-align: top;\n",
       "    }\n",
       "\n",
       "    .dataframe thead th {\n",
       "        text-align: right;\n",
       "    }\n",
       "</style>\n",
       "<table border=\"1\" class=\"dataframe\">\n",
       "  <thead>\n",
       "    <tr style=\"text-align: right;\">\n",
       "      <th></th>\n",
       "      <th>Temperature (°C)</th>\n",
       "      <th>Pressure (kPa)</th>\n",
       "      <th>Temperature x Pressure</th>\n",
       "      <th>Material Fusion Metric</th>\n",
       "      <th>Material Transformation Metric</th>\n",
       "      <th>Quality Rating</th>\n",
       "    </tr>\n",
       "  </thead>\n",
       "  <tbody>\n",
       "    <tr>\n",
       "      <th>Temperature (°C)</th>\n",
       "      <td>1.000000</td>\n",
       "      <td>-0.024754</td>\n",
       "      <td>0.571743</td>\n",
       "      <td>0.974901</td>\n",
       "      <td>0.971210</td>\n",
       "      <td>-0.461279</td>\n",
       "    </tr>\n",
       "    <tr>\n",
       "      <th>Pressure (kPa)</th>\n",
       "      <td>-0.024754</td>\n",
       "      <td>1.000000</td>\n",
       "      <td>0.773572</td>\n",
       "      <td>0.151095</td>\n",
       "      <td>-0.022862</td>\n",
       "      <td>0.013129</td>\n",
       "    </tr>\n",
       "    <tr>\n",
       "      <th>Temperature x Pressure</th>\n",
       "      <td>0.571743</td>\n",
       "      <td>0.773572</td>\n",
       "      <td>1.000000</td>\n",
       "      <td>0.694733</td>\n",
       "      <td>0.555579</td>\n",
       "      <td>-0.258474</td>\n",
       "    </tr>\n",
       "    <tr>\n",
       "      <th>Material Fusion Metric</th>\n",
       "      <td>0.974901</td>\n",
       "      <td>0.151095</td>\n",
       "      <td>0.694733</td>\n",
       "      <td>1.000000</td>\n",
       "      <td>0.976708</td>\n",
       "      <td>-0.511972</td>\n",
       "    </tr>\n",
       "    <tr>\n",
       "      <th>Material Transformation Metric</th>\n",
       "      <td>0.971210</td>\n",
       "      <td>-0.022862</td>\n",
       "      <td>0.555579</td>\n",
       "      <td>0.976708</td>\n",
       "      <td>1.000000</td>\n",
       "      <td>-0.575756</td>\n",
       "    </tr>\n",
       "    <tr>\n",
       "      <th>Quality Rating</th>\n",
       "      <td>-0.461279</td>\n",
       "      <td>0.013129</td>\n",
       "      <td>-0.258474</td>\n",
       "      <td>-0.511972</td>\n",
       "      <td>-0.575756</td>\n",
       "      <td>1.000000</td>\n",
       "    </tr>\n",
       "  </tbody>\n",
       "</table>\n",
       "</div>"
      ],
      "text/plain": [
       "                                Temperature (°C)  Pressure (kPa)  \\\n",
       "Temperature (°C)                        1.000000       -0.024754   \n",
       "Pressure (kPa)                         -0.024754        1.000000   \n",
       "Temperature x Pressure                  0.571743        0.773572   \n",
       "Material Fusion Metric                  0.974901        0.151095   \n",
       "Material Transformation Metric          0.971210       -0.022862   \n",
       "Quality Rating                         -0.461279        0.013129   \n",
       "\n",
       "                                Temperature x Pressure  \\\n",
       "Temperature (°C)                              0.571743   \n",
       "Pressure (kPa)                                0.773572   \n",
       "Temperature x Pressure                        1.000000   \n",
       "Material Fusion Metric                        0.694733   \n",
       "Material Transformation Metric                0.555579   \n",
       "Quality Rating                               -0.258474   \n",
       "\n",
       "                                Material Fusion Metric  \\\n",
       "Temperature (°C)                              0.974901   \n",
       "Pressure (kPa)                                0.151095   \n",
       "Temperature x Pressure                        0.694733   \n",
       "Material Fusion Metric                        1.000000   \n",
       "Material Transformation Metric                0.976708   \n",
       "Quality Rating                               -0.511972   \n",
       "\n",
       "                                Material Transformation Metric  Quality Rating  \n",
       "Temperature (°C)                                      0.971210       -0.461279  \n",
       "Pressure (kPa)                                       -0.022862        0.013129  \n",
       "Temperature x Pressure                                0.555579       -0.258474  \n",
       "Material Fusion Metric                                0.976708       -0.511972  \n",
       "Material Transformation Metric                        1.000000       -0.575756  \n",
       "Quality Rating                                       -0.575756        1.000000  "
      ]
     },
     "execution_count": 74,
     "metadata": {},
     "output_type": "execute_result"
    }
   ],
   "source": [
    "df.corr()"
   ]
  },
  {
   "cell_type": "code",
   "execution_count": 75,
   "metadata": {},
   "outputs": [
    {
     "data": {
      "text/plain": [
       "<Axes: >"
      ]
     },
     "execution_count": 75,
     "metadata": {},
     "output_type": "execute_result"
    },
    {
     "data": {
      "image/png": "[encoded data removed]",
      "text/plain": [
       "<Figure size 640x480 with 2 Axes>"
      ]
     },
     "metadata": {},
     "output_type": "display_data"
    }
   ],
   "source": [
    "# showing correlation using heatmap \n",
    "sns.heatmap(df.corr(),annot=True)"
   ]
  },
  {
   "cell_type": "code",
   "execution_count": 76,
   "metadata": {},
   "outputs": [
    {
     "data": {
      "text/plain": [
       "Index(['Temperature (°C)', 'Pressure (kPa)', 'Temperature x Pressure',\n",
       "       'Material Fusion Metric', 'Material Transformation Metric',\n",
       "       'Quality Rating'],\n",
       "      dtype='object')"
      ]
     },
     "execution_count": 76,
     "metadata": {},
     "output_type": "execute_result"
    }
   ],
   "source": [
    "df.columns"
   ]
  },
  {
   "cell_type": "code",
   "execution_count": 77,
   "metadata": {},
   "outputs": [],
   "source": [
    "X=df.drop('Quality Rating',axis=1)\n",
    "y=df['Quality Rating']"
   ]
  },
  {
   "cell_type": "code",
   "execution_count": 78,
   "metadata": {},
   "outputs": [],
   "source": [
    "# split data \n",
    "X_train,X_test,y_train,y_test=train_test_split(X,y,test_size=0.2,random_state=42)"
   ]
  },
  {
   "cell_type": "code",
   "execution_count": 79,
   "metadata": {},
   "outputs": [],
   "source": [
    "polynomial=PolynomialFeatures(degree=3,include_bias=True)\n",
    "X_train_poly=polynomial.fit_transform(X_train)\n",
    "X_test_poly=polynomial.transform(X_test)"
   ]
  },
  {
   "cell_type": "code",
   "execution_count": 80,
   "metadata": {},
   "outputs": [
    {
     "data": {
      "text/html": [
       "<style>#sk-container-id-5 {color: black;}#sk-container-id-5 pre{padding: 0;}#sk-container-id-5 div.sk-toggleable {background-color: white;}#sk-container-id-5 label.sk-toggleable__label {cursor: pointer;display: block;width: 100%;margin-bottom: 0;padding: 0.3em;box-sizing: border-box;text-align: center;}#sk-container-id-5 label.sk-toggleable__label-arrow:before {content: \"▸\";float: left;margin-right: 0.25em;color: #696969;}#sk-container-id-5 label.sk-toggleable__label-arrow:hover:before {color: black;}#sk-container-id-5 div.sk-estimator:hover label.sk-toggleable__label-arrow:before {color: black;}#sk-container-id-5 div.sk-toggleable__content {max-height: 0;max-width: 0;overflow: hidden;text-align: left;background-color: #f0f8ff;}#sk-container-id-5 div.sk-toggleable__content pre {margin: 0.2em;color: black;border-radius: 0.25em;background-color: #f0f8ff;}#sk-container-id-5 input.sk-toggleable__control:checked~div.sk-toggleable__content {max-height: 200px;max-width: 100%;overflow: auto;}#sk-container-id-5 input.sk-toggleable__control:checked~label.sk-toggleable__label-arrow:before {content: \"▾\";}#sk-container-id-5 div.sk-estimator input.sk-toggleable__control:checked~label.sk-toggleable__label {background-color: #d4ebff;}#sk-container-id-5 div.sk-label input.sk-toggleable__control:checked~label.sk-toggleable__label {background-color: #d4ebff;}#sk-container-id-5 input.sk-hidden--visually {border: 0;clip: rect(1px 1px 1px 1px);clip: rect(1px, 1px, 1px, 1px);height: 1px;margin: -1px;overflow: hidden;padding: 0;position: absolute;width: 1px;}#sk-container-id-5 div.sk-estimator {font-family: monospace;background-color: #f0f8ff;border: 1px dotted black;border-radius: 0.25em;box-sizing: border-box;margin-bottom: 0.5em;}#sk-container-id-5 div.sk-estimator:hover {background-color: #d4ebff;}#sk-container-id-5 div.sk-parallel-item::after {content: \"\";width: 100%;border-bottom: 1px solid gray;flex-grow: 1;}#sk-container-id-5 div.sk-label:hover label.sk-toggleable__label {background-color: #d4ebff;}#sk-container-id-5 div.sk-serial::before {content: \"\";position: absolute;border-left: 1px solid gray;box-sizing: border-box;top: 0;bottom: 0;left: 50%;z-index: 0;}#sk-container-id-5 div.sk-serial {display: flex;flex-direction: column;align-items: center;background-color: white;padding-right: 0.2em;padding-left: 0.2em;position: relative;}#sk-container-id-5 div.sk-item {position: relative;z-index: 1;}#sk-container-id-5 div.sk-parallel {display: flex;align-items: stretch;justify-content: center;background-color: white;position: relative;}#sk-container-id-5 div.sk-item::before, #sk-container-id-5 div.sk-parallel-item::before {content: \"\";position: absolute;border-left: 1px solid gray;box-sizing: border-box;top: 0;bottom: 0;left: 50%;z-index: -1;}#sk-container-id-5 div.sk-parallel-item {display: flex;flex-direction: column;z-index: 1;position: relative;background-color: white;}#sk-container-id-5 div.sk-parallel-item:first-child::after {align-self: flex-end;width: 50%;}#sk-container-id-5 div.sk-parallel-item:last-child::after {align-self: flex-start;width: 50%;}#sk-container-id-5 div.sk-parallel-item:only-child::after {width: 0;}#sk-container-id-5 div.sk-dashed-wrapped {border: 1px dashed gray;margin: 0 0.4em 0.5em 0.4em;box-sizing: border-box;padding-bottom: 0.4em;background-color: white;}#sk-container-id-5 div.sk-label label {font-family: monospace;font-weight: bold;display: inline-block;line-height: 1.2em;}#sk-container-id-5 div.sk-label-container {text-align: center;}#sk-container-id-5 div.sk-container {/* jupyter's `normalize.less` sets `[hidden] { display: none; }` but bootstrap.min.css set `[hidden] { display: none !important; }` so we also need the `!important` here to be able to override the default hidden behavior on the sphinx rendered scikit-learn.org. See: https://github.com/scikit-learn/scikit-learn/issues/21755 */display: inline-block !important;position: relative;}#sk-container-id-5 div.sk-text-repr-fallback {display: none;}</style><div id=\"sk-container-id-5\" class=\"sk-top-container\"><div class=\"sk-text-repr-fallback\"><pre>LinearRegression()</pre><b>In a Jupyter environment, please rerun this cell to show the HTML representation or trust the notebook. <br />On GitHub, the HTML representation is unable to render, please try loading this page with nbviewer.org.</b></div><div class=\"sk-container\" hidden><div class=\"sk-item\"><div class=\"sk-estimator sk-toggleable\"><input class=\"sk-toggleable__control sk-hidden--visually\" id=\"sk-estimator-id-5\" type=\"checkbox\" checked><label for=\"sk-estimator-id-5\" class=\"sk-toggleable__label sk-toggleable__label-arrow\">LinearRegression</label><div class=\"sk-toggleable__content\"><pre>LinearRegression()</pre></div></div></div></div></div>"
      ],
      "text/plain": [
       "LinearRegression()"
      ]
     },
     "execution_count": 80,
     "metadata": {},
     "output_type": "execute_result"
    }
   ],
   "source": [
    "regression=LinearRegression()\n",
    "regression.fit(X_train_poly,y_train)"
   ]
  },
  {
   "cell_type": "code",
   "execution_count": 81,
   "metadata": {},
   "outputs": [
    {
     "data": {
      "text/plain": [
       "array([ 20.83769991, 101.31382244,  98.61651299,  99.79313466,\n",
       "       100.69852978, 100.39253176,  99.62837897, 100.22396178,\n",
       "       100.023374  ,  53.38628454,  97.00666647,  99.75097907,\n",
       "        99.53394407, 101.08202865, 100.34273051, 100.54628651,\n",
       "        99.30303102,  98.51540021, 101.22511097, 102.73992401,\n",
       "        99.6204475 , 103.61635979,  99.53237069,  50.09860197,\n",
       "       100.6101897 ,  47.22035779,  98.51087889, 100.46213942,\n",
       "        98.05084647,  98.82900404,  99.11244156,  97.8521319 ,\n",
       "       100.63880519, 100.56731553, 100.47326144, 103.37738822,\n",
       "       100.45751086, 100.75172619, 100.43023906,  99.97989792,\n",
       "       100.22980973, 104.48498059,  43.40782835, 102.81205421,\n",
       "        99.60122074, 100.14765361,  97.27560347,  47.68176128,\n",
       "       100.45229023,  98.34036855, 103.16246046, 100.56367705,\n",
       "        98.27399923,  59.74330489,  30.21733938,  98.9647954 ,\n",
       "       100.97196107, 101.16135164,  99.67200832,  97.78975512,\n",
       "        99.71347727,  99.09708239,  96.99789932,  98.12612588,\n",
       "       100.77486126,  99.32066045,  98.00315995, 100.75318629,\n",
       "        97.09413895, 103.45867052,  98.24710374, 100.00708106,\n",
       "        99.16837965,  46.67347649, 100.19513594, 101.68377717,\n",
       "       100.77230266,  99.07797322,  98.51257632,  98.48742308,\n",
       "       100.64642068,  97.18878128,  98.95451838, 100.99336634,\n",
       "        97.38445094,  98.5342847 ,  96.71672318,  90.42768086,\n",
       "        99.16193588,  15.1838365 ,  98.38917499,  99.5407122 ,\n",
       "       100.68282666, 102.7220227 , 100.65006678, 100.23287252,\n",
       "       100.11001311, 101.01494893,  99.98337105, 100.30184592,\n",
       "        98.33600275,  33.89765403,  98.02860035, 103.14497564,\n",
       "       101.3673223 , 102.48213737, 101.93899983, 100.89498814,\n",
       "       100.7561289 , 102.30873017,  98.27198189,  90.74097289,\n",
       "       100.98641514,  97.71626767, 100.60577273, 102.08687185,\n",
       "        84.74442773,  97.86666371,  89.86963174, 101.59088673,\n",
       "        99.76190227, 100.89047208,  99.58949988,  98.45711228,\n",
       "       104.4725152 ,  65.86979753,  98.71070216,  99.40918915,\n",
       "       100.60664064, 103.66840592,  85.77492591, 100.98543101,\n",
       "        99.69892285, 100.96728946,  99.46470136, 102.23315826,\n",
       "       101.35182395,  99.98469893,  98.4072246 ,  24.99703694,\n",
       "       100.60391636, 101.12320251, 103.82451857, 101.08107379,\n",
       "        97.18213734, 101.68019393, 101.46093576, 100.76266636,\n",
       "       102.23024784,  98.66892516, 101.9200242 ,  98.12181851,\n",
       "       100.62595632,  60.69218579,  75.69109812, 100.85009441,\n",
       "        98.11378055,  98.1629166 ,  98.80549447,  99.51492419,\n",
       "        98.50778934,  98.06549941,  98.33231096,  99.53360332,\n",
       "        99.18730627,  98.70242305, 102.79264607,  99.02889048,\n",
       "        49.44414275, 100.94555308,  99.61292427,  99.79158598,\n",
       "        98.74793346,  98.10147025,  98.64970178, 101.47960711,\n",
       "       100.79224289,  99.39223   ,  99.93374575,  99.84707816,\n",
       "       100.57219542,  99.67944542,  97.98459892,  98.22995262,\n",
       "       100.01125254,  99.19980059, 100.48153948,  90.21437837,\n",
       "       100.14241405, 101.49182031,  99.40243   , 100.3828787 ,\n",
       "        99.39832226,  25.31427233,  98.34067838, 102.61690341,\n",
       "        71.89454735,  99.81724288, 100.54660553,  98.21695672,\n",
       "       101.88839644, 101.55558794, 102.32419111, 100.62547177,\n",
       "       101.20270511,  97.50290703,  55.69687301, 100.67714276,\n",
       "       100.34698408,  95.22821284, 100.27661929,  32.37862003,\n",
       "       101.16611369,  99.28491932,  98.5280625 , 101.67774959,\n",
       "       101.34937248,  99.93194219, 103.74247309,  99.73968852,\n",
       "       100.88770367,  79.77602254,  97.19843832,  65.72836943,\n",
       "       104.8476968 ,  97.81589535,  99.4286179 ,  98.95871641,\n",
       "        99.34051724,  99.6282518 ,  98.9130102 ,  98.53785704,\n",
       "       101.09725057, 102.3161792 ,  99.94646506,  99.14997434,\n",
       "       101.59833617,  99.76723043,  99.92359896, 101.98693046,\n",
       "        59.47050572,  98.41635412,  99.44745556, 100.22191308,\n",
       "        99.58561661,  99.23845693,  47.29655147,  98.0533136 ,\n",
       "        69.15552653,  99.20217533,  99.87349172,  98.58861756,\n",
       "       100.13660745, 100.932959  , 100.04629621, 100.55033944,\n",
       "        69.88963366, 101.10202487,  98.77102821, 102.81990143,\n",
       "       102.09114231,  97.72905986, 100.87642479,  21.70100816,\n",
       "       102.59275712,  98.85317606,  99.29561002,  99.25382027,\n",
       "        44.29460327, 100.21801327,  97.00595717, 102.75493734,\n",
       "        99.94742343,  99.74450964,  99.69293857, 100.13908875,\n",
       "       100.71662132,  97.47881875,  99.25358811, 101.12669348,\n",
       "        64.0006682 , 100.79229875,  29.67332923,  97.45217459,\n",
       "        98.76673464,  85.09713345,  98.56452055,  99.39440941,\n",
       "        99.7516239 , 101.12673157,  99.7430755 ,  97.8316154 ,\n",
       "       103.92099838, 100.82927301,  97.43053903,  98.37740528,\n",
       "        99.23627115, 100.47650189,  99.2975279 ,  99.09895691,\n",
       "        39.39196149, 104.65363477, 101.59751871,  99.24468287,\n",
       "       100.66915237,  98.80429222, 101.67972348,  60.32378015,\n",
       "        97.64077325,  39.70867307,  99.3248294 ,  68.56056227,\n",
       "        84.72854991,  98.2404172 ,  98.70755177, 100.20131803,\n",
       "       100.78240746, 100.48095862, 100.44076438, 101.62026277,\n",
       "        99.13687595, 100.43912551,  96.88722736,  98.35349804,\n",
       "        81.88262684, 101.5154806 , 101.19227102, 100.87827052,\n",
       "       102.2027676 , 100.37280402, 103.65834226,  22.58812402,\n",
       "       101.17999144, 101.83657806,  83.76883163,  98.72282394,\n",
       "        95.43517504, 100.58080868, 100.29826639, 101.46990599,\n",
       "       100.66871477, 101.21480784,  97.21315752, 101.23630069,\n",
       "        99.65634571,  98.43333113,  98.81805562, 100.34961697,\n",
       "       100.23413014,  99.56672075, 100.0989421 ,  99.51024861,\n",
       "        98.81953899, 101.42717825, 100.01097019,  97.13134128,\n",
       "        98.06321664,  56.08050217, 100.760122  ,  97.42708304,\n",
       "       100.10059763,  99.59387628,  72.67300096,  99.72105038,\n",
       "        98.71812525,  99.46009781, 104.70115593, 100.62631061,\n",
       "        98.64432053, 100.64532008, 100.52091588, 101.05402288,\n",
       "        98.86459259, 102.80391126,  98.69063901,  87.63829964,\n",
       "       100.18830819,  98.39873773,  99.63260877, 100.34907513,\n",
       "       101.46656028,  97.95471306,  99.55032836,  98.74284522,\n",
       "        78.29789664,  99.26154967,  99.65872261, 100.03955587,\n",
       "        97.98282765,  99.21010466, 100.40828461,  98.41718684,\n",
       "       102.86374733, 100.23660718, 100.85570001, 103.27665378,\n",
       "        97.17519342, 100.65903989,  99.00513079, 101.83661339,\n",
       "        98.79228107,  95.72577934,  99.00652667, 101.75094957,\n",
       "       101.17808319,  99.97751491, 102.03949652,  99.96635367,\n",
       "        98.16051484, 100.68270795, 100.11112705,  98.46813979,\n",
       "        98.02896352,  97.73754984,  98.99328307,  97.67507876,\n",
       "        99.92224021, 103.59350892,  99.03270082,  99.58489479,\n",
       "       100.99654402,  97.64322695, 100.03333398,  98.92005113,\n",
       "       100.88100302, 102.0010817 ,  98.7633177 ,  73.21932197,\n",
       "        95.54145448,  98.76624835,  75.81394936,  98.44667185,\n",
       "        68.30919598, 100.73418663, 101.9986757 ,  97.0314469 ,\n",
       "        99.18769725,  98.60381067,  97.38465356, 100.14200085,\n",
       "       101.71025276,  44.40499571, 100.41606967,  99.6328929 ,\n",
       "        62.31627416, 104.76899089, 100.54536249, 100.02120542,\n",
       "        99.83893862,  98.65612524, 100.08864391,  98.33823264,\n",
       "       103.17560442,  99.50552688, 100.46087903,  73.48463999,\n",
       "        74.48886358, 101.84992396,  99.91425091,  99.6841265 ,\n",
       "        99.72403269,  98.40209489,  98.86368509, 103.85712544,\n",
       "        37.29454122,  99.99668332, 101.201991  ,  71.72504501,\n",
       "        99.89352927,  97.29987099,  99.42088283, 100.82009597,\n",
       "        86.03105033,  84.17356623, 101.78858041, 100.57073375,\n",
       "        99.02475534,  93.89529765, 100.06352023, 101.64736483,\n",
       "        97.83275166,  65.94487222, 100.17292357,  98.9318967 ,\n",
       "        86.98462376,  99.92905828, 100.64998707, 100.3101849 ,\n",
       "        99.38799436, 100.46456298, 100.74985566,  99.38941681,\n",
       "       100.60833069,  24.78681629,  99.71354469, 101.99038683,\n",
       "        96.58795178,  99.63991209,  98.81844487,  97.76935544,\n",
       "       104.6641513 ,  97.05523309,  99.0017224 ,  34.02688764,\n",
       "       100.9480594 , 100.8948125 ,  99.2035463 ,  99.73138093,\n",
       "        84.66395132,  98.7600724 , 101.63451179, 104.76875452,\n",
       "       100.32007859, 100.76045202,  97.93997573,  99.48081668,\n",
       "        98.05179838, 102.63822979,  99.51341983,  98.27299937,\n",
       "       103.75523101,  99.87795292,  98.9438257 , 100.81123485,\n",
       "       100.29858136,  99.8003426 ,  26.18291301,  98.27023225,\n",
       "       101.11739312,  99.05679225, 101.61778042,  98.25288402,\n",
       "        97.75306324,  98.9613166 ,  91.61236436, 100.98057892,\n",
       "       100.59399525,  99.21780591, 101.66634527,  98.42055486,\n",
       "       100.07051803, 101.98542723,  99.59258478, 100.91651448,\n",
       "        74.299462  , 101.25278003, 101.06829095,  99.77498051,\n",
       "        98.94660496,  98.86307927, 101.47619271, 104.48105138,\n",
       "        84.57832568, 100.32129339, 103.48616182, 100.54727723,\n",
       "        99.49533713,  98.44111207,  98.07731619,  99.51211554,\n",
       "       101.51979921, 100.94804342, 100.89645398,  98.58493157,\n",
       "        96.914003  , 101.88977274,  97.58971283,  99.86919116,\n",
       "        99.39151529,  97.88518808,  99.26259558, 101.29770193,\n",
       "       100.99729421,  98.31976761,  98.45620278,  99.23260338,\n",
       "        99.07139783, 101.25368995, 100.14942612,  99.07557818,\n",
       "        98.92462509,  99.78346095, 100.19994155,  99.98906663,\n",
       "       104.19855392, 100.48697348,  98.83682442, 101.1579802 ,\n",
       "        98.64001681,  83.16547171,  98.74437341,  99.24671579,\n",
       "        98.46273029,  98.65403647, 102.03802308, 100.89716404,\n",
       "       103.80910978,  96.84254701, 104.30935267,  97.95666282,\n",
       "       103.55519365, 101.75478419, 102.53777363,  97.76382203,\n",
       "       100.25034577,  99.83623962, 100.15808196, 100.29426266,\n",
       "        97.6400415 , 101.07555049,  98.702786  , 101.36486234,\n",
       "       101.77092006, 103.52962858, 100.99011379,  99.65536828,\n",
       "       103.24119926, 102.70098288,  99.33762671,  97.11352279,\n",
       "        98.36956577,  98.00567151, 102.2775508 ,  99.75360588,\n",
       "       101.36342363,  99.1737933 ,  99.65197516, 101.22984333,\n",
       "        97.19574235, 100.61788917,  97.66283824,  98.44234416,\n",
       "       100.6924564 ,  98.96359438,  99.5070227 , 100.34330765,\n",
       "       102.34637424, 100.58690071, 101.06508505, 101.31551197,\n",
       "       100.4864583 ,  97.29349803,  98.30625833,  97.41565874,\n",
       "        96.6669782 ,  98.25211864, 101.00605929,  99.78744873,\n",
       "       101.7128742 , 100.33261436,  99.27450277, 100.20299181,\n",
       "       101.25510661,  90.43054692, 103.53133133, 100.55974125,\n",
       "       101.20159469, 100.07362024,  99.04644646,  99.05479916,\n",
       "        96.04440071,  98.69065126,  98.41775487, 102.91988852,\n",
       "        97.14284637,  98.30025376,  98.80340733, 100.48799808,\n",
       "       100.3546135 , 100.68906272, 100.3814871 , 100.08261694,\n",
       "       100.52706319,  98.79090782, 101.08752066, 100.64875762,\n",
       "       101.27938647,  97.78809319,  99.02004159,  99.77162221,\n",
       "        97.5909744 ,  58.30192144, 101.57317848,  99.90048116,\n",
       "        99.47597572, 103.60818796,  98.91830224, 100.81734751,\n",
       "       103.42216113,  99.9035028 ,  99.71506496, 100.41637827,\n",
       "        91.8967253 ,  99.91563523, 101.68204223,  98.35017591,\n",
       "        98.87987493,  61.34417935, 100.93612728, 100.95579294,\n",
       "       103.73051814,  99.43743324, 100.44818157, 100.47738465,\n",
       "        99.30889502,  67.35111668,  99.74372129,  66.79588322,\n",
       "        99.35583106,  99.08349237, 101.51511624, 103.58084739,\n",
       "        99.20947269,  99.92353071,  98.24284166,  99.81364412,\n",
       "        98.64693745,  98.39927472,  99.41086115,  99.54996795,\n",
       "        98.42770796,  98.37277584,  98.75743144,  93.40732117,\n",
       "        97.46908591, 101.2135045 , 100.33399009, 103.55575785,\n",
       "        99.72662455,  97.79928555,  29.13440705,  34.72904027,\n",
       "       101.01615788,  99.1732827 ,  99.87623786, 100.38121987,\n",
       "        99.33395619, 100.65099894, 101.40643109, 100.96455229,\n",
       "       102.60126734, 102.39530952,  99.68652178,  96.57177668,\n",
       "        99.15295114,  99.56914828,  47.15974259,  98.40202482,\n",
       "        99.88267318,  97.65597895, 101.59201492, 100.48616648,\n",
       "       104.01446749, 100.03133493, 101.98518482, 101.24069745,\n",
       "       100.74561438, 104.30407078, 102.21248001, 100.63002311,\n",
       "       101.2179661 ,  99.85823576,  98.78389055,  98.09245364,\n",
       "       100.67394353,  99.00270274, 103.9594372 ,  75.96110073,\n",
       "        99.88174852,  99.22379593, 103.24269829, 102.21758491,\n",
       "        99.02124312, 101.65181009,  97.88941886, 100.74521419,\n",
       "        99.18550346, 102.93089321,  58.53373959,  99.84958908,\n",
       "       104.57145381,  85.94134946,  98.41438439,  86.58200644,\n",
       "       102.38894374,  98.94713179,  99.25630082, 101.82263386,\n",
       "       102.21082682,  98.82016665, 100.28762022,  99.33662484])"
      ]
     },
     "execution_count": 81,
     "metadata": {},
     "output_type": "execute_result"
    }
   ],
   "source": [
    "y_pred=regression.predict(X_test_poly)\n",
    "y_pred"
   ]
  },
  {
   "cell_type": "code",
   "execution_count": 82,
   "metadata": {},
   "outputs": [
    {
     "name": "stdout",
     "output_type": "stream",
     "text": [
      "mean_absolute_error :  1.7258288019436498\n",
      "mean_squared_error :  6.962166537487351\n",
      "r2 score :  0.9658969099636405\n"
     ]
    }
   ],
   "source": [
    "print('mean_absolute_error : ',mean_absolute_error(y_test,y_pred))\n",
    "print('mean_squared_error : ',mean_squared_error(y_test,y_pred))\n",
    "print('r2 score : ',r2_score(y_test,y_pred))"
   ]
  },
  {
   "cell_type": "code",
   "execution_count": null,
   "metadata": {},
   "outputs": [],
   "source": []
  }
 ],
 "metadata": {
  "kernelspec": {
   "display_name": "machine_learning_env",
   "language": "python",
   "name": "python3"
  },
  "language_info": {
   "codemirror_mode": {
    "name": "ipython",
    "version": 3
   },
   "file_extension": ".py",
   "mimetype": "text/x-python",
   "name": "python",
   "nbconvert_exporter": "python",
   "pygments_lexer": "ipython3",
   "version": "3.12.0"
  }
 },
 "nbformat": 4,
 "nbformat_minor": 2
}
